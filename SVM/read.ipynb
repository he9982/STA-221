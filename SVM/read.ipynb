{
 "cells": [
  {
   "cell_type": "code",
   "execution_count": 1,
   "metadata": {},
   "outputs": [],
   "source": [
    "import os\n",
    "import numpy as np\n",
    "from PIL import Image\n",
    "import torch\n",
    "from torch.utils.data import DataLoader, Dataset\n",
    "import torchvision.transforms as transforms\n"
   ]
  },
  {
   "cell_type": "code",
   "execution_count": 2,
   "metadata": {},
   "outputs": [],
   "source": [
    "class CustomImageFolder(Dataset):\n",
    "    def __init__(self, train_1_dir, train_0_dir, transform=None):\n",
    "        self.train_1_dir = train_1_dir\n",
    "        self.train_0_dir = train_0_dir\n",
    "        self.transform = transform\n",
    "        self.samples = []\n",
    "\n",
    "        # Add all images from train_te\n",
    "        for root, _, files in os.walk(train_1_dir):\n",
    "            for file in files:\n",
    "                file_path = os.path.join(root, file)\n",
    "                self.samples.append((file_path, 1))\n",
    "\n",
    "        # Add selected images from train_image\n",
    "        for root, _, files in os.walk(train_0_dir):\n",
    "            files = np.random.choice(files, 100, replace=False)\n",
    "            for file in files:\n",
    "                file_path = os.path.join(root, file)\n",
    "                self.samples.append((file_path, 0))\n",
    "\n",
    "    def __len__(self):\n",
    "        return len(self.samples)\n",
    "\n",
    "    def __getitem__(self, index):\n",
    "        img_path, label = self.samples[index]\n",
    "        image = Image.open(img_path).convert(\"RGB\")\n",
    "        if self.transform:\n",
    "            image = self.transform(image)\n",
    "        return image, label"
   ]
  },
  {
   "cell_type": "code",
   "execution_count": 3,
   "metadata": {},
   "outputs": [],
   "source": [
    "train_1_dir = \"../train_1\"\n",
    "test_1_dir = \"../test_1\"\n",
    "train_0_dir = \"../train_0\"\n",
    "test_0_dir = \"../test_0\"\n",
    "\n",
    "# Load the images and data loader for training and testing\n",
    "Dataset_tr = CustomImageFolder(train_1_dir, train_0_dir, transform = transforms.Compose([\n",
    "    transforms.Resize((64, 64)),\n",
    "    transforms.ToTensor()\n",
    "]))\n",
    "Dataset_te = CustomImageFolder(test_1_dir, test_0_dir, transform = transforms.Compose([\n",
    "    transforms.Resize((64, 64)),\n",
    "    transforms.ToTensor()\n",
    "]))\n",
    "\n",
    "#trainloader = torch.utils.data.DataLoader(dataset=Dataset_tr, batch_size=batch_size, shuffle=True)\n",
    "#testloader = torch.utils.data.DataLoader(dataset=Dataset_te, batch_size=batch_size, shuffle=True)"
   ]
  }
 ],
 "metadata": {
  "kernelspec": {
   "display_name": "Python 3",
   "language": "python",
   "name": "python3"
  },
  "language_info": {
   "codemirror_mode": {
    "name": "ipython",
    "version": 3
   },
   "file_extension": ".py",
   "mimetype": "text/x-python",
   "name": "python",
   "nbconvert_exporter": "python",
   "pygments_lexer": "ipython3",
   "version": "3.11.9"
  }
 },
 "nbformat": 4,
 "nbformat_minor": 2
}
